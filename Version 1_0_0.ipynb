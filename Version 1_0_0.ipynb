{
 "cells": [
  {
   "cell_type": "code",
   "execution_count": 1,
   "id": "9f1a6876-37e5-4f93-abcb-37645be174e3",
   "metadata": {},
   "outputs": [],
   "source": [
    "import urllib.request\n",
    "import json\n",
    "import sys\n",
    "import codecs\n",
    "import io\n",
    "import pandas as pd\n",
    "import numpy as np\n",
    "import networkx as nx\n",
    "from scipy.linalg import eigh, inv\n",
    "import matplotlib.pyplot as plt\n",
    "from matplotlib import rcParams\n",
    "import matplotlib\n",
    "from __future__ import print_function\n",
    "from ipywidgets import interact, interactive, fixed, interact_manual\n",
    "import ipywidgets as widgets"
   ]
  },
  {
   "cell_type": "code",
   "execution_count": 2,
   "id": "af9b73bd-b6dd-48c0-aea7-38ab022a29ae",
   "metadata": {},
   "outputs": [
    {
     "data": {
      "application/vnd.jupyter.widget-view+json": {
       "model_id": "82987df5dfcb4ec09eee1ef82fc1dbb7",
       "version_major": 2,
       "version_minor": 0
      },
      "text/plain": [
       "FileUpload(value={}, description='Upload')"
      ]
     },
     "metadata": {},
     "output_type": "display_data"
    }
   ],
   "source": [
    "#Upload the file\n",
    "uploader = widgets.FileUpload(multiple=False)\n",
    "display(uploader)"
   ]
  },
  {
   "cell_type": "code",
   "execution_count": 3,
   "id": "1d2b6e0d-ee55-4d2f-97af-01ecae2fa11f",
   "metadata": {},
   "outputs": [],
   "source": [
    "uploaded_file = list(uploader.value.values())[0]"
   ]
  },
  {
   "cell_type": "code",
   "execution_count": 4,
   "id": "8e50a722-d7a1-46e1-b419-cd22ea07943c",
   "metadata": {},
   "outputs": [],
   "source": [
    "#Convert uploaded file to pandas data frame\n",
    "dfTCPA = pd.read_csv(io.BytesIO(uploaded_file[\"content\"]))"
   ]
  },
  {
   "cell_type": "code",
   "execution_count": 5,
   "id": "466c4e32-2bbb-4bd7-90f9-82853935965c",
   "metadata": {},
   "outputs": [],
   "source": [
    "#Get gene names to be used in graph later\n",
    "geneList = dfTCPA.columns[4:dfTCPA.index.stop]\n",
    "\n",
    "#Define the cutoff for significant gene/protein expression\n",
    "SIGEXPR = 0.45\n",
    "\n",
    "#Create final dataframe to hold significant gene/protein expression\n",
    "corrJak2Df = pd.DataFrame()\n",
    "corrStat3Df = pd.DataFrame()"
   ]
  },
  {
   "cell_type": "code",
   "execution_count": 6,
   "id": "0afb6cbe-799e-4c3a-b8d5-656690b6120f",
   "metadata": {},
   "outputs": [],
   "source": [
    "#Calculate correlation for each column in TCPA with respect to JAK2\n",
    "#Will turn this into a function later\n",
    "for col in geneList: \n",
    "    corrCoeff = dfTCPA[\"JAK2\"].corr(dfTCPA[col])\n",
    "    if(abs(corrCoeff) > SIGEXPR and col != \"JAK2\"):\n",
    "        dfHolder = pd.DataFrame({col: corrCoeff}, index=[0])\n",
    "        corrJak2Df = pd.concat([dfHolder, corrJak2Df], axis=1)\n",
    "\n",
    "        \n",
    "#Calculate correlation for each column in TCPA with respect to STAT3\n",
    "for col in geneList: \n",
    "    corrCoeff = dfTCPA[\"STAT3_pY705\"].corr(dfTCPA[col])\n",
    "    if(abs(corrCoeff) > SIGEXPR and col != \"STAT3_pY705\"):\n",
    "        dfHolder = pd.DataFrame({col: corrCoeff}, index=[0])\n",
    "        corrStat3Df = pd.concat([dfHolder, corrStat3Df], axis=1)\n",
    "        \n",
    "#Add the gene the analysis was done with respect to (i.e. JAK2 or STAT3)\n",
    "corrJak2Df['JAK2'] = 'NaN'\n",
    "corrStat3Df['STAT3'] = 'NaN'"
   ]
  },
  {
   "cell_type": "code",
   "execution_count": 7,
   "id": "717880ea-3c00-4698-8205-26b367b4b61d",
   "metadata": {},
   "outputs": [
    {
     "data": {
      "text/html": [
       "<div>\n",
       "<style scoped>\n",
       "    .dataframe tbody tr th:only-of-type {\n",
       "        vertical-align: middle;\n",
       "    }\n",
       "\n",
       "    .dataframe tbody tr th {\n",
       "        vertical-align: top;\n",
       "    }\n",
       "\n",
       "    .dataframe thead th {\n",
       "        text-align: right;\n",
       "    }\n",
       "</style>\n",
       "<table border=\"1\" class=\"dataframe\">\n",
       "  <thead>\n",
       "    <tr style=\"text-align: right;\">\n",
       "      <th></th>\n",
       "      <th>NRF2</th>\n",
       "      <th>LCN2A</th>\n",
       "      <th>PI3KP85</th>\n",
       "      <th>TUBERIN</th>\n",
       "      <th>STATHMIN</th>\n",
       "      <th>STAT5ALPHA</th>\n",
       "      <th>MTOR</th>\n",
       "      <th>MRE11</th>\n",
       "      <th>ATM</th>\n",
       "      <th>JAK2</th>\n",
       "    </tr>\n",
       "  </thead>\n",
       "  <tbody>\n",
       "    <tr>\n",
       "      <th>0</th>\n",
       "      <td>-0.46625</td>\n",
       "      <td>-0.464228</td>\n",
       "      <td>0.458117</td>\n",
       "      <td>0.505792</td>\n",
       "      <td>-0.49182</td>\n",
       "      <td>0.665408</td>\n",
       "      <td>0.468928</td>\n",
       "      <td>-0.456898</td>\n",
       "      <td>0.523329</td>\n",
       "      <td>NaN</td>\n",
       "    </tr>\n",
       "  </tbody>\n",
       "</table>\n",
       "</div>"
      ],
      "text/plain": [
       "      NRF2     LCN2A   PI3KP85   TUBERIN  STATHMIN  STAT5ALPHA      MTOR  \\\n",
       "0 -0.46625 -0.464228  0.458117  0.505792  -0.49182    0.665408  0.468928   \n",
       "\n",
       "      MRE11       ATM JAK2  \n",
       "0 -0.456898  0.523329  NaN  "
      ]
     },
     "execution_count": 7,
     "metadata": {},
     "output_type": "execute_result"
    }
   ],
   "source": [
    "#Output final result so far\n",
    "corrJak2Df"
   ]
  },
  {
   "cell_type": "code",
   "execution_count": 8,
   "id": "d127989e-f7e2-4a5a-bf15-70a360c3c077",
   "metadata": {},
   "outputs": [
    {
     "data": {
      "text/html": [
       "<div>\n",
       "<style scoped>\n",
       "    .dataframe tbody tr th:only-of-type {\n",
       "        vertical-align: middle;\n",
       "    }\n",
       "\n",
       "    .dataframe tbody tr th {\n",
       "        vertical-align: top;\n",
       "    }\n",
       "\n",
       "    .dataframe thead th {\n",
       "        text-align: right;\n",
       "    }\n",
       "</style>\n",
       "<table border=\"1\" class=\"dataframe\">\n",
       "  <thead>\n",
       "    <tr style=\"text-align: right;\">\n",
       "      <th></th>\n",
       "      <th>THYMIDILATESYNTHASE</th>\n",
       "      <th>SHP2_pY542</th>\n",
       "      <th>GSK3_pS9</th>\n",
       "      <th>MTOR_pS2448</th>\n",
       "      <th>GSK3ALPHABETA_pS21S9</th>\n",
       "      <th>CAVEOLIN1</th>\n",
       "      <th>AKT_pS473</th>\n",
       "      <th>X4EBP1</th>\n",
       "      <th>STAT3</th>\n",
       "    </tr>\n",
       "  </thead>\n",
       "  <tbody>\n",
       "    <tr>\n",
       "      <th>0</th>\n",
       "      <td>-0.455796</td>\n",
       "      <td>0.45508</td>\n",
       "      <td>0.487995</td>\n",
       "      <td>0.488616</td>\n",
       "      <td>0.466608</td>\n",
       "      <td>0.456366</td>\n",
       "      <td>0.526362</td>\n",
       "      <td>-0.490331</td>\n",
       "      <td>NaN</td>\n",
       "    </tr>\n",
       "  </tbody>\n",
       "</table>\n",
       "</div>"
      ],
      "text/plain": [
       "   THYMIDILATESYNTHASE  SHP2_pY542  GSK3_pS9  MTOR_pS2448  \\\n",
       "0            -0.455796     0.45508  0.487995     0.488616   \n",
       "\n",
       "   GSK3ALPHABETA_pS21S9  CAVEOLIN1  AKT_pS473    X4EBP1 STAT3  \n",
       "0              0.466608   0.456366   0.526362 -0.490331   NaN  "
      ]
     },
     "execution_count": 8,
     "metadata": {},
     "output_type": "execute_result"
    }
   ],
   "source": [
    "corrStat3Df"
   ]
  },
  {
   "cell_type": "code",
   "execution_count": 9,
   "id": "0f9afc9d-5f5a-4acf-aea2-c0497d8de975",
   "metadata": {},
   "outputs": [
    {
     "data": {
      "text/plain": [
       "0    0.45508\n",
       "Name: SHP2_pY542, dtype: float64"
      ]
     },
     "execution_count": 9,
     "metadata": {},
     "output_type": "execute_result"
    }
   ],
   "source": [
    "corrStat3Df[\"SHP2_pY542\"]"
   ]
  },
  {
   "cell_type": "code",
   "execution_count": 10,
   "id": "065cd1d8-3675-47d6-b5ff-34fe42828a3a",
   "metadata": {},
   "outputs": [
    {
     "data": {
      "text/plain": [
       "Index(['THYMIDILATESYNTHASE', 'SHP2_pY542', 'GSK3_pS9', 'MTOR_pS2448',\n",
       "       'GSK3ALPHABETA_pS21S9', 'CAVEOLIN1', 'AKT_pS473', 'X4EBP1', 'STAT3'],\n",
       "      dtype='object')"
      ]
     },
     "execution_count": 10,
     "metadata": {},
     "output_type": "execute_result"
    }
   ],
   "source": [
    "corrStat3Df.columns"
   ]
  },
  {
   "cell_type": "code",
   "execution_count": 11,
   "id": "2b0da0a0-5c98-411d-afb7-cf266d50575d",
   "metadata": {},
   "outputs": [
    {
     "data": {
      "text/plain": [
       "['THYMIDILATESYNTHASE',\n",
       " 'SHP2_pY542',\n",
       " 'GSK3_pS9',\n",
       " 'MTOR_pS2448',\n",
       " 'GSK3ALPHABETA_pS21S9',\n",
       " 'CAVEOLIN1',\n",
       " 'AKT_pS473',\n",
       " 'X4EBP1',\n",
       " 'STAT3']"
      ]
     },
     "execution_count": 11,
     "metadata": {},
     "output_type": "execute_result"
    }
   ],
   "source": [
    "corrStat3Df.columns.tolist()"
   ]
  },
  {
   "cell_type": "code",
   "execution_count": 12,
   "id": "46085d04-eb6b-409a-9509-41cd5e1433c5",
   "metadata": {},
   "outputs": [],
   "source": [
    "#Taken and modified from https://bmcbioinformatics.biomedcentral.com/articles/10.1186/s12859-021-04148-x\n",
    "class HypothesisNetwork(object):\n",
    "    \n",
    "    def __init__(self, endpoint):\n",
    "        endpoint = endpoint.replace(' ', '_').replace('/', '_').lower()\n",
    "        url = urllib.request.urlopen(BASE_URL + 'json/%s.json' % endpoint)\n",
    "        data = json.loads(url.read())\n",
    "        self.endpoint = data['graph']['endpoint']\n",
    "        self.category = data['graph']['category']\n",
    "        self._nodes = data['graph']['nodes']\n",
    "        self._edges = data['graph']['edges']\n",
    "        self._node_id_map = {n['label']:n['id'] for n in self._nodes}\n",
    "        self._id_node_map = {n['id']:n['label'] for n in self._nodes}\n",
    "        self.nodes = list(self._node_id_map)\n",
    "        self.edges = [(self._id_node_map[e['from']], self._id_node_map[e['to']]) for e in self._edges]\n",
    "  \n",
    "\n",
    "# __repr__ turns object into a string\n",
    "#    def __repr__(self):\n",
    "#        return self.endpoint\n",
    "    \n",
    "# methods    def get_drugs(self, node): \n",
    "#            def get_node_description(self, node):\n"
   ]
  },
  {
   "cell_type": "code",
   "execution_count": 13,
   "id": "ba9b623f-e881-42cf-a9f7-5f59d5b80e59",
   "metadata": {},
   "outputs": [],
   "source": [
    "#My own class to draw graph\n",
    "class KnowledgeTree(object):\n",
    "    \n",
    "    def __init__(self, dataFrame):\n",
    "        #Private variables\n",
    "        #self._nodes = dataFrame.columns.tolist()\n",
    "        #self._edges\n",
    "        \n",
    "        #Public Variables\n",
    "        self.nodes = dataFrame.columns.map(str)\n",
    "        self.edges = \"TCPA\"\n",
    "        \n"
   ]
  },
  {
   "cell_type": "code",
   "execution_count": 14,
   "id": "8bc31810-488a-426d-9b08-dfc12b973679",
   "metadata": {},
   "outputs": [],
   "source": [
    "jak2graph = KnowledgeTree(corrJak2Df)\n",
    "stat3graph = KnowledgeTree(corrStat3Df)"
   ]
  },
  {
   "cell_type": "code",
   "execution_count": 15,
   "id": "ea6fd20f-20b6-4f18-b7ee-1175d1d5c55d",
   "metadata": {},
   "outputs": [
    {
     "data": {
      "text/plain": [
       "Index(['THYMIDILATESYNTHASE', 'SHP2_pY542', 'GSK3_pS9', 'MTOR_pS2448',\n",
       "       'GSK3ALPHABETA_pS21S9', 'CAVEOLIN1', 'AKT_pS473', 'X4EBP1', 'STAT3'],\n",
       "      dtype='object')"
      ]
     },
     "execution_count": 15,
     "metadata": {},
     "output_type": "execute_result"
    }
   ],
   "source": [
    "stat3graph.nodes"
   ]
  },
  {
   "cell_type": "code",
   "execution_count": 16,
   "id": "8a7eb160-5400-4dba-acd2-e87be9c9fe06",
   "metadata": {},
   "outputs": [
    {
     "data": {
      "text/plain": [
       "Index(['NRF2', 'LCN2A', 'PI3KP85', 'TUBERIN', 'STATHMIN', 'STAT5ALPHA', 'MTOR',\n",
       "       'MRE11', 'ATM', 'JAK2'],\n",
       "      dtype='object')"
      ]
     },
     "execution_count": 16,
     "metadata": {},
     "output_type": "execute_result"
    }
   ],
   "source": [
    "jak2graph.nodes"
   ]
  },
  {
   "cell_type": "code",
   "execution_count": 15,
   "id": "8d97f655-d155-40fc-8bf4-dcd921fc058d",
   "metadata": {},
   "outputs": [],
   "source": [
    "#Creating the knowledge graph\n",
    "KG = nx.Graph()\n",
    "\n",
    "#Add the nodes\n",
    "for i in range(len(jak2graph.nodes)):\n",
    "    KG.add_node(jak2graph.nodes[i])\n",
    "    \n",
    "for i in range(len(stat3graph.nodes)):\n",
    "    KG.add_node(stat3graph.nodes[i])\n",
    "\n",
    "#Each edge form is a tuple (node1, node2, {'weight': weight})\n",
    "for i in range(len(jak2graph.nodes)-1):\n",
    "    KG.add_edge(jak2graph.nodes[i], jak2graph.nodes[len(jak2graph.nodes)-1], dataFrom=jak2graph.edges)\n",
    "    \n",
    "for i in range(len(stat3graph.nodes)-1):\n",
    "    KG.add_edge(stat3graph.nodes[i], stat3graph.nodes[len(stat3graph.nodes)-1], dataFrom=stat3graph.edges)"
   ]
  },
  {
   "cell_type": "code",
   "execution_count": 16,
   "id": "d174530b-3f73-45cf-85a5-27c3c1d696dd",
   "metadata": {},
   "outputs": [
    {
     "data": {
      "image/png": "[encoded data removed]",
      "text/plain": [
       "<Figure size 432x288 with 1 Axes>"
      ]
     },
     "metadata": {},
     "output_type": "display_data"
    }
   ],
   "source": [
    "nx.draw_networkx(KG, with_labels=True, font_weight='bold')"
   ]
  },
  {
   "cell_type": "code",
   "execution_count": 17,
   "id": "2550ec78-21d0-4ddd-a744-9ab7d9020fc8",
   "metadata": {},
   "outputs": [],
   "source": [
    "%matplotlib widget"
   ]
  },
  {
   "cell_type": "code",
   "execution_count": null,
   "id": "d3418e99-36a8-4a01-9ae3-ab4eb6f53db6",
   "metadata": {},
   "outputs": [],
   "source": [
    "with plt.ion():\n",
    "    rcParams.update({'figure.autolayout': True})\n",
    "    fig, ax = plt.subplots(figsize=(12, 12))\n",
    "    pos=nx.spring_layout(KG, seed=63)\n",
    "    nx.draw_networkx(KG, with_labels=True)\n",
    "    \n",
    "    ax.margins(0.01, 0.05)\n",
    "    fig.tight_layout()\n",
    "    plt.axis(\"off\")\n",
    "    plt.show()"
   ]
  },
  {
   "cell_type": "code",
   "execution_count": null,
   "id": "ac041066-0b64-405b-93d4-af861355bf39",
   "metadata": {},
   "outputs": [],
   "source": []
  },
  {
   "cell_type": "code",
   "execution_count": null,
   "id": "f9f4daf9-327e-45c3-9935-aa759d898cb3",
   "metadata": {},
   "outputs": [],
   "source": []
  },
  {
   "cell_type": "code",
   "execution_count": 18,
   "id": "a9f789c0-43fa-48d0-b396-f15566593689",
   "metadata": {},
   "outputs": [],
   "source": [
    "corrJak2Df['STAT3'] = .17706\n",
    "corrStat3Df['JAK2'] = .17706\n",
    "jak2graph = KnowledgeTree(corrJak2Df)\n",
    "stat3graph = KnowledgeTree(corrStat3Df)"
   ]
  },
  {
   "cell_type": "code",
   "execution_count": 19,
   "id": "daec5e8d-9853-45db-a027-e9e9e62c9d46",
   "metadata": {},
   "outputs": [
    {
     "data": {
      "text/plain": [
       "Index(['NRF2', 'LCN2A', 'PI3KP85', 'TUBERIN', 'STATHMIN', 'STAT5ALPHA', 'MTOR',\n",
       "       'MRE11', 'ATM', 'JAK2', 'STAT3'],\n",
       "      dtype='object')"
      ]
     },
     "execution_count": 19,
     "metadata": {},
     "output_type": "execute_result"
    }
   ],
   "source": [
    "jak2graph.nodes"
   ]
  },
  {
   "cell_type": "code",
   "execution_count": 20,
   "id": "05841456-b0ce-4fff-a1b3-faca7f37fef5",
   "metadata": {},
   "outputs": [],
   "source": [
    "#Creating the knowledge graph\n",
    "KG = nx.Graph()\n",
    "\n",
    "#Add the nodes\n",
    "\n",
    "for i in range(len(jak2graph.nodes)):\n",
    "    KG.add_node(jak2graph.nodes[i])\n",
    "    \n",
    "for i in range(len(stat3graph.nodes)):\n",
    "    KG.add_node(stat3graph.nodes[i])\n",
    "\n",
    "#Each edge form is a tuple (node1, node2, {'weight': weight})\n",
    "for i in range(len(jak2graph.nodes)-1):\n",
    "    KG.add_edge(jak2graph.nodes[i], jak2graph.nodes[len(jak2graph.nodes)-1], dataFrom=jak2graph.edges)\n",
    "    \n",
    "for i in range(len(stat3graph.nodes)-1):\n",
    "    KG.add_edge(stat3graph.nodes[i], stat3graph.nodes[len(stat3graph.nodes)-1], dataFrom=stat3graph.edges)"
   ]
  },
  {
   "cell_type": "code",
   "execution_count": 21,
   "id": "6cfcf2e1-0dd1-481c-805e-e4cbeb6f5d24",
   "metadata": {},
   "outputs": [
    {
     "data": {
      "application/vnd.jupyter.widget-view+json": {
       "model_id": "323617ee9d7a47a5a2da036370ffa1df",
       "version_major": 2,
       "version_minor": 0
      },
      "text/plain": [
       "Canvas(toolbar=Toolbar(toolitems=[('Home', 'Reset original view', 'home', 'home'), ('Back', 'Back to previous …"
      ]
     },
     "metadata": {},
     "output_type": "display_data"
    }
   ],
   "source": [
    "with plt.ion():\n",
    "    #https://networkx.org/documentation/latest/auto_examples/drawing/plot_chess_masters.html#sphx-glr-auto-examples-drawing-plot-chess-masters-py\n",
    "    H = KG\n",
    "    pos = nx.spring_layout(H)\n",
    "    fig, ax = plt.subplots(figsize=(12, 12))\n",
    "    # Visualize graph components\n",
    "    nx.draw_networkx_edges(H, pos, alpha=0.3,  edge_color=\"m\")\n",
    "    nx.draw_networkx_nodes(H, pos, node_color=\"#210070\", alpha=0.9)\n",
    "    label_options = {\"ec\": \"k\", \"fc\": \"white\", \"alpha\": 0.7}\n",
    "    nx.draw_networkx_labels(H, pos, font_size=14, bbox=label_options)\n",
    "    \n",
    "\n",
    "    # Resize figure for label readibility\n",
    "    ax.margins(0.1, 0.05)\n",
    "    fig.tight_layout()\n",
    "    plt.axis(\"off\")\n",
    "    plt.show()"
   ]
  },
  {
   "cell_type": "code",
   "execution_count": 22,
   "id": "e4d12f98-e313-4025-9c36-80465549ff85",
   "metadata": {},
   "outputs": [
    {
     "data": {
      "text/plain": [
       "'module://ipympl.backend_nbagg'"
      ]
     },
     "execution_count": 22,
     "metadata": {},
     "output_type": "execute_result"
    }
   ],
   "source": [
    "matplotlib.get_backend()"
   ]
  },
  {
   "cell_type": "code",
   "execution_count": 23,
   "id": "1b75fe76-84a3-40e2-a787-25f313921150",
   "metadata": {},
   "outputs": [
    {
     "data": {
      "text/plain": [
       "True"
      ]
     },
     "execution_count": 23,
     "metadata": {},
     "output_type": "execute_result"
    }
   ],
   "source": [
    "plt.isinteractive()"
   ]
  },
  {
   "cell_type": "code",
   "execution_count": null,
   "id": "2acea042-204c-4bb0-9fbc-95a64de89708",
   "metadata": {},
   "outputs": [],
   "source": []
  },
  {
   "cell_type": "code",
   "execution_count": null,
   "id": "bd76f09d",
   "metadata": {},
   "outputs": [],
   "source": []
  },
  {
   "cell_type": "code",
   "execution_count": null,
   "id": "e863c9db",
   "metadata": {},
   "outputs": [],
   "source": []
  }
 ],
 "metadata": {
  "kernelspec": {
   "display_name": "Python 3",
   "language": "python",
   "name": "python3"
  },
  "language_info": {
   "codemirror_mode": {
    "name": "ipython",
    "version": 3
   },
   "file_extension": ".py",
   "mimetype": "text/x-python",
   "name": "python",
   "nbconvert_exporter": "python",
   "pygments_lexer": "ipython3",
   "version": "3.9.4"
  }
 },
 "nbformat": 4,
 "nbformat_minor": 5
}
