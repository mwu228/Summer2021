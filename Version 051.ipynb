{
 "cells": [
  {
   "cell_type": "code",
   "execution_count": null,
   "id": "9f1a6876-37e5-4f93-abcb-37645be174e3",
   "metadata": {},
   "outputs": [],
   "source": [
    "import urllib.request\n",
    "import json\n",
    "import sys\n",
    "import codecs\n",
    "import io\n",
    "import pandas as pd\n",
    "import numpy as np\n",
    "from scipy.linalg import eigh, inv\n",
    "import matplotlib.pyplot as plt\n",
    "import matplotlib\n",
    "from __future__ import print_function\n",
    "from ipywidgets import interact, interactive, fixed, interact_manual\n",
    "import ipywidgets as widgets"
   ]
  },
  {
   "cell_type": "code",
   "execution_count": null,
   "id": "af9b73bd-b6dd-48c0-aea7-38ab022a29ae",
   "metadata": {},
   "outputs": [],
   "source": [
    "#Upload the file\n",
    "uploader = widgets.FileUpload(multiple=False)\n",
    "display(uploader)"
   ]
  },
  {
   "cell_type": "code",
   "execution_count": null,
   "id": "1d2b6e0d-ee55-4d2f-97af-01ecae2fa11f",
   "metadata": {},
   "outputs": [],
   "source": [
    "uploaded_file = list(uploader.value.values())[0]"
   ]
  },
  {
   "cell_type": "code",
   "execution_count": null,
   "id": "8e50a722-d7a1-46e1-b419-cd22ea07943c",
   "metadata": {},
   "outputs": [],
   "source": [
    "#Convert uploaded file to pandas data frame\n",
    "dfTCPA = pd.read_csv(io.BytesIO(uploaded_file[\"content\"]))"
   ]
  },
  {
   "cell_type": "code",
   "execution_count": null,
   "id": "466c4e32-2bbb-4bd7-90f9-82853935965c",
   "metadata": {},
   "outputs": [],
   "source": [
    "#Get gene names to be used in graph later\n",
    "geneList = dfTCPA.columns[4:dfTCPA.index.stop]\n",
    "\n",
    "#Define the cutoff for significant gene/protein expression\n",
    "SIGEXPR = 0.45\n",
    "\n",
    "#Create final dataframe to hold significant gene/protein expression\n",
    "corrJak2Df = pd.DataFrame()\n",
    "corrStat3Df = pd.DataFrame()"
   ]
  },
  {
   "cell_type": "code",
   "execution_count": null,
   "id": "0afb6cbe-799e-4c3a-b8d5-656690b6120f",
   "metadata": {},
   "outputs": [],
   "source": [
    "#Calculate correlation for each column in TCPA with respect to JAK2\n",
    "#Will turn this into a function later\n",
    "for col in geneList: \n",
    "    corrCoeff = dfTCPA[\"JAK2\"].corr(dfTCPA[col])\n",
    "    if(abs(corrCoeff) > SIGEXPR and col != \"JAK2\"):\n",
    "        dfHolder = pd.DataFrame({col: corrCoeff}, index=[0])\n",
    "        corrJak2Df = pd.concat([dfHolder, corrJak2Df], axis=1)\n",
    "        \n",
    "#Calculate correlation for each column in TCPA with respect to STAT3\n",
    "for col in geneList: \n",
    "    corrCoeff = dfTCPA[\"STAT3_pY705\"].corr(dfTCPA[col])\n",
    "    if(abs(corrCoeff) > SIGEXPR and col != \"STAT3_pY705\"):\n",
    "        dfHolder = pd.DataFrame({col: corrCoeff}, index=[0])\n",
    "        corrStat3Df = pd.concat([dfHolder, corrStat3Df], axis=1)"
   ]
  },
  {
   "cell_type": "code",
   "execution_count": null,
   "id": "717880ea-3c00-4698-8205-26b367b4b61d",
   "metadata": {},
   "outputs": [],
   "source": [
    "#Output final result so far\n",
    "corrJak2Df"
   ]
  },
  {
   "cell_type": "code",
   "execution_count": null,
   "id": "d127989e-f7e2-4a5a-bf15-70a360c3c077",
   "metadata": {},
   "outputs": [],
   "source": [
    "corrStat3Df"
   ]
  },
  {
   "cell_type": "code",
   "execution_count": null,
   "id": "0f9afc9d-5f5a-4acf-aea2-c0497d8de975",
   "metadata": {},
   "outputs": [],
   "source": [
    "corrStat3Df[0]"
   ]
  },
  {
   "cell_type": "code",
   "execution_count": null,
   "id": "46085d04-eb6b-409a-9509-41cd5e1433c5",
   "metadata": {},
   "outputs": [],
   "source": [
    "dfHolder"
   ]
  },
  {
   "cell_type": "code",
   "execution_count": null,
   "id": "ba9b623f-e881-42cf-a9f7-5f59d5b80e59",
   "metadata": {},
   "outputs": [],
   "source": []
  }
 ],
 "metadata": {
  "kernelspec": {
   "display_name": "Python 3",
   "language": "python",
   "name": "python3"
  },
  "language_info": {
   "codemirror_mode": {
    "name": "ipython",
    "version": 3
   },
   "file_extension": ".py",
   "mimetype": "text/x-python",
   "name": "python",
   "nbconvert_exporter": "python",
   "pygments_lexer": "ipython3",
   "version": "3.9.4"
  }
 },
 "nbformat": 4,
 "nbformat_minor": 5
}
