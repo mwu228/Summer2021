{
 "cells": [
  {
   "cell_type": "code",
   "execution_count": null,
   "id": "9f1a6876-37e5-4f93-abcb-37645be174e3",
   "metadata": {},
   "outputs": [],
   "source": [
    "import urllib.request\n",
    "import json\n",
    "import sys\n",
    "import codecs\n",
    "import io\n",
    "import pandas as pd\n",
    "import numpy as np\n",
    "from scipy.linalg import eigh, inv\n",
    "import matplotlib.pyplot as plt\n",
    "import matplotlib\n",
    "from __future__ import print_function\n",
    "from ipywidgets import interact, interactive, fixed, interact_manual\n",
    "import ipywidgets as widgets"
   ]
  },
  {
   "cell_type": "code",
   "execution_count": null,
   "id": "af9b73bd-b6dd-48c0-aea7-38ab022a29ae",
   "metadata": {},
   "outputs": [],
   "source": [
    "#Upload the file\n",
    "uploader = widgets.FileUpload(multiple=False)\n",
    "display(uploader)"
   ]
  },
  {
   "cell_type": "code",
   "execution_count": null,
   "id": "1d2b6e0d-ee55-4d2f-97af-01ecae2fa11f",
   "metadata": {},
   "outputs": [],
   "source": [
    "uploaded_file = list(uploader.value.values())[0]"
   ]
  },
  {
   "cell_type": "code",
   "execution_count": null,
   "id": "8e50a722-d7a1-46e1-b419-cd22ea07943c",
   "metadata": {},
   "outputs": [],
   "source": [
    "#Convert uploaded file to pandas data frame\n",
    "dfTCPA = pd.read_csv(io.BytesIO(uploaded_file[\"content\"]))"
   ]
  },
  {
   "cell_type": "code",
   "execution_count": null,
   "id": "466c4e32-2bbb-4bd7-90f9-82853935965c",
   "metadata": {},
   "outputs": [],
   "source": [
    "#Get gene names to be used in graph later\n",
    "geneList = dfTCPA.columns[4:dfTCPA.index.stop]\n",
    "\n"
   ]
  }
 ],
 "metadata": {
  "kernelspec": {
   "display_name": "Python 3",
   "language": "python",
   "name": "python3"
  },
  "language_info": {
   "codemirror_mode": {
    "name": "ipython",
    "version": 3
   },
   "file_extension": ".py",
   "mimetype": "text/x-python",
   "name": "python",
   "nbconvert_exporter": "python",
   "pygments_lexer": "ipython3",
   "version": "3.9.4"
  }
 },
 "nbformat": 4,
 "nbformat_minor": 5
}
