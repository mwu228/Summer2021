{
 "cells": [
  {
   "cell_type": "code",
   "execution_count": 6,
   "id": "9f1a6876-37e5-4f93-abcb-37645be174e3",
   "metadata": {},
   "outputs": [],
   "source": [
    "import pandas as pd\n",
    "import io\n",
    "from __future__ import print_function\n",
    "from ipywidgets import interact, interactive, fixed, interact_manual\n",
    "import ipywidgets as widgets"
   ]
  },
  {
   "cell_type": "code",
   "execution_count": 7,
   "id": "af9b73bd-b6dd-48c0-aea7-38ab022a29ae",
   "metadata": {},
   "outputs": [
    {
     "data": {
      "application/vnd.jupyter.widget-view+json": {
       "model_id": "7c10bd7f28304249898d12ab94b5b454",
       "version_major": 2,
       "version_minor": 0
      },
      "text/plain": [
       "FileUpload(value={}, description='Upload')"
      ]
     },
     "metadata": {},
     "output_type": "display_data"
    }
   ],
   "source": [
    "#Upload the file\n",
    "uploader = widgets.FileUpload(multiple=False)\n",
    "display(uploader)"
   ]
  },
  {
   "cell_type": "code",
   "execution_count": 8,
   "id": "1d2b6e0d-ee55-4d2f-97af-01ecae2fa11f",
   "metadata": {},
   "outputs": [],
   "source": [
    "uploaded_file = list(uploader.value.values())[0]"
   ]
  },
  {
   "cell_type": "code",
   "execution_count": 9,
   "id": "8e50a722-d7a1-46e1-b419-cd22ea07943c",
   "metadata": {},
   "outputs": [],
   "source": [
    "#Convert uploaded file to pandas data frame\n",
    "dfTCPA = pd.read_csv(io.BytesIO(uploaded_file[\"content\"]))"
   ]
  },
  {
   "cell_type": "code",
   "execution_count": 12,
   "id": "466c4e32-2bbb-4bd7-90f9-82853935965c",
   "metadata": {},
   "outputs": [],
   "source": [
    "#Get protein names to be used in graph later\n",
    "proteinList = dfTCPA.columns[4:dfTCPA.index.stop]\n",
    "\n",
    "#Create dataframe to hold pMAPK, Src, STAT3_pY705, PDL1\\n\",\n",
    "proteinInterestList = [\"MAPK_pT202Y204\", \"SRC\", \"STAT3_pY705\", \"PDL1\"]\n",
    "dfCorrProteinInterest = pd.DataFrame()"
   ]
  },
  {
   "cell_type": "code",
   "execution_count": 13,
   "id": "0afb6cbe-799e-4c3a-b8d5-656690b6120f",
   "metadata": {},
   "outputs": [],
   "source": [
    "#Calculate correlation for each column in TCPA with respect to JAK2\n",
    "#Will turn this into a function later\n",
    "#Calculate correlation for pMAPK, Src, STAT3_pY705, PDL1 with respect to SHP2_pY542\\n\",\n",
    "for protein in proteinList:\n",
    "    for element in proteinInterestList:\n",
    "        if(protein == element):\n",
    "            corrCoeff = dfTCPA[\"SHP2_pY542\"].corr(dfTCPA[protein])\n",
    "            dfHolder = pd.DataFrame({protein: corrCoeff}, index=[0])\n",
    "            dfCorrProteinInterest = pd.concat([dfHolder, dfCorrProteinInterest], axis=1)"
   ]
  },
  {
   "cell_type": "code",
   "execution_count": 14,
   "id": "956ead9e",
   "metadata": {},
   "outputs": [
    {
     "data": {
      "text/html": [
       "<div>\n",
       "<style scoped>\n",
       "    .dataframe tbody tr th:only-of-type {\n",
       "        vertical-align: middle;\n",
       "    }\n",
       "\n",
       "    .dataframe tbody tr th {\n",
       "        vertical-align: top;\n",
       "    }\n",
       "\n",
       "    .dataframe thead th {\n",
       "        text-align: right;\n",
       "    }\n",
       "</style>\n",
       "<table border=\"1\" class=\"dataframe\">\n",
       "  <thead>\n",
       "    <tr style=\"text-align: right;\">\n",
       "      <th></th>\n",
       "      <th>PDL1</th>\n",
       "      <th>STAT3_pY705</th>\n",
       "      <th>SRC</th>\n",
       "      <th>MAPK_pT202Y204</th>\n",
       "    </tr>\n",
       "  </thead>\n",
       "  <tbody>\n",
       "    <tr>\n",
       "      <th>0</th>\n",
       "      <td>-0.139217</td>\n",
       "      <td>0.45508</td>\n",
       "      <td>-0.03017</td>\n",
       "      <td>0.551063</td>\n",
       "    </tr>\n",
       "  </tbody>\n",
       "</table>\n",
       "</div>"
      ],
      "text/plain": [
       "       PDL1  STAT3_pY705      SRC  MAPK_pT202Y204\n",
       "0 -0.139217      0.45508 -0.03017        0.551063"
      ]
     },
     "execution_count": 14,
     "metadata": {},
     "output_type": "execute_result"
    }
   ],
   "source": [
    "dfCorrProteinInterest"
   ]
  }
 ],
 "metadata": {
  "kernelspec": {
   "display_name": "Python 3 (ipykernel)",
   "language": "python",
   "name": "python3"
  },
  "language_info": {
   "codemirror_mode": {
    "name": "ipython",
    "version": 3
   },
   "file_extension": ".py",
   "mimetype": "text/x-python",
   "name": "python",
   "nbconvert_exporter": "python",
   "pygments_lexer": "ipython3",
   "version": "3.9.4"
  }
 },
 "nbformat": 4,
 "nbformat_minor": 5
}
