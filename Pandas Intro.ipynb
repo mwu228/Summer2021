{
 "cells": [
  {
   "cell_type": "code",
   "execution_count": 1,
   "id": "983001fe-0b9e-40e0-a4ab-81034f5b6375",
   "metadata": {},
   "outputs": [],
   "source": [
    "# https://pandas.pydata.org/docs/user_guide/10min.html#min\n",
    "In [1]: import numpy as np\n",
    "\n",
    "In [2]: import pandas as pd"
   ]
  },
  {
   "cell_type": "code",
   "execution_count": 2,
   "id": "923df936-13c5-48fb-8239-540ace782fcc",
   "metadata": {},
   "outputs": [],
   "source": [
    "# Creating a Series by passing a list of values, letting pandas create a default integer index\n",
    "s = pd.Series([1, 3, 5, np.nan, 6, 8])"
   ]
  },
  {
   "cell_type": "code",
   "execution_count": 3,
   "id": "a2f4616c-acf5-42e8-b2a7-aef767642497",
   "metadata": {},
   "outputs": [
    {
     "data": {
      "text/plain": [
       "0    1.0\n",
       "1    3.0\n",
       "2    5.0\n",
       "3    NaN\n",
       "4    6.0\n",
       "5    8.0\n",
       "dtype: float64"
      ]
     },
     "execution_count": 3,
     "metadata": {},
     "output_type": "execute_result"
    }
   ],
   "source": [
    "s"
   ]
  },
  {
   "cell_type": "code",
   "execution_count": 6,
   "id": "9ed0d1d7-0b88-433a-bdd9-3121cf579231",
   "metadata": {},
   "outputs": [],
   "source": [
    "#Creating a DataFrame by passing a NumPy array, with a datetime index and labeled columns\n",
    "dates = pd.date_range(\"20130101\", periods=10)"
   ]
  },
  {
   "cell_type": "code",
   "execution_count": 7,
   "id": "08532fe9-e3ae-4939-966c-2a19ddcd2b78",
   "metadata": {},
   "outputs": [
    {
     "data": {
      "text/plain": [
       "DatetimeIndex(['2013-01-01', '2013-01-02', '2013-01-03', '2013-01-04',\n",
       "               '2013-01-05', '2013-01-06', '2013-01-07', '2013-01-08',\n",
       "               '2013-01-09', '2013-01-10'],\n",
       "              dtype='datetime64[ns]', freq='D')"
      ]
     },
     "execution_count": 7,
     "metadata": {},
     "output_type": "execute_result"
    }
   ],
   "source": [
    "dates"
   ]
  },
  {
   "cell_type": "code",
   "execution_count": 11,
   "id": "34ad7a1d-76a1-4f4f-85ce-aa5773e0a00f",
   "metadata": {},
   "outputs": [],
   "source": [
    "df = pd.DataFrame(np.random.randn(10, 4), index=dates, columns=list(\"1234\"))"
   ]
  },
  {
   "cell_type": "code",
   "execution_count": 12,
   "id": "28a06bb4-0418-4c4a-8ac8-d602c014bc87",
   "metadata": {},
   "outputs": [
    {
     "data": {
      "text/html": [
       "<div>\n",
       "<style scoped>\n",
       "    .dataframe tbody tr th:only-of-type {\n",
       "        vertical-align: middle;\n",
       "    }\n",
       "\n",
       "    .dataframe tbody tr th {\n",
       "        vertical-align: top;\n",
       "    }\n",
       "\n",
       "    .dataframe thead th {\n",
       "        text-align: right;\n",
       "    }\n",
       "</style>\n",
       "<table border=\"1\" class=\"dataframe\">\n",
       "  <thead>\n",
       "    <tr style=\"text-align: right;\">\n",
       "      <th></th>\n",
       "      <th>1</th>\n",
       "      <th>2</th>\n",
       "      <th>3</th>\n",
       "      <th>4</th>\n",
       "    </tr>\n",
       "  </thead>\n",
       "  <tbody>\n",
       "    <tr>\n",
       "      <th>2013-01-01</th>\n",
       "      <td>1.367263</td>\n",
       "      <td>-0.171257</td>\n",
       "      <td>0.428610</td>\n",
       "      <td>0.050025</td>\n",
       "    </tr>\n",
       "    <tr>\n",
       "      <th>2013-01-02</th>\n",
       "      <td>-1.886400</td>\n",
       "      <td>0.261755</td>\n",
       "      <td>0.033428</td>\n",
       "      <td>-2.107026</td>\n",
       "    </tr>\n",
       "    <tr>\n",
       "      <th>2013-01-03</th>\n",
       "      <td>0.085557</td>\n",
       "      <td>0.636210</td>\n",
       "      <td>1.441403</td>\n",
       "      <td>1.979614</td>\n",
       "    </tr>\n",
       "    <tr>\n",
       "      <th>2013-01-04</th>\n",
       "      <td>-1.615251</td>\n",
       "      <td>1.010016</td>\n",
       "      <td>0.377631</td>\n",
       "      <td>-1.631396</td>\n",
       "    </tr>\n",
       "    <tr>\n",
       "      <th>2013-01-05</th>\n",
       "      <td>0.951663</td>\n",
       "      <td>-0.780420</td>\n",
       "      <td>1.614135</td>\n",
       "      <td>-0.306678</td>\n",
       "    </tr>\n",
       "    <tr>\n",
       "      <th>2013-01-06</th>\n",
       "      <td>1.573360</td>\n",
       "      <td>0.909731</td>\n",
       "      <td>-1.145545</td>\n",
       "      <td>0.603921</td>\n",
       "    </tr>\n",
       "    <tr>\n",
       "      <th>2013-01-07</th>\n",
       "      <td>-1.009285</td>\n",
       "      <td>-0.242192</td>\n",
       "      <td>0.270666</td>\n",
       "      <td>-1.809228</td>\n",
       "    </tr>\n",
       "    <tr>\n",
       "      <th>2013-01-08</th>\n",
       "      <td>-1.095781</td>\n",
       "      <td>-0.928470</td>\n",
       "      <td>-0.474325</td>\n",
       "      <td>-0.760582</td>\n",
       "    </tr>\n",
       "    <tr>\n",
       "      <th>2013-01-09</th>\n",
       "      <td>-1.180316</td>\n",
       "      <td>-1.488034</td>\n",
       "      <td>1.177143</td>\n",
       "      <td>0.553916</td>\n",
       "    </tr>\n",
       "    <tr>\n",
       "      <th>2013-01-10</th>\n",
       "      <td>1.011860</td>\n",
       "      <td>-0.761266</td>\n",
       "      <td>-1.095542</td>\n",
       "      <td>-0.941848</td>\n",
       "    </tr>\n",
       "  </tbody>\n",
       "</table>\n",
       "</div>"
      ],
      "text/plain": [
       "                   1         2         3         4\n",
       "2013-01-01  1.367263 -0.171257  0.428610  0.050025\n",
       "2013-01-02 -1.886400  0.261755  0.033428 -2.107026\n",
       "2013-01-03  0.085557  0.636210  1.441403  1.979614\n",
       "2013-01-04 -1.615251  1.010016  0.377631 -1.631396\n",
       "2013-01-05  0.951663 -0.780420  1.614135 -0.306678\n",
       "2013-01-06  1.573360  0.909731 -1.145545  0.603921\n",
       "2013-01-07 -1.009285 -0.242192  0.270666 -1.809228\n",
       "2013-01-08 -1.095781 -0.928470 -0.474325 -0.760582\n",
       "2013-01-09 -1.180316 -1.488034  1.177143  0.553916\n",
       "2013-01-10  1.011860 -0.761266 -1.095542 -0.941848"
      ]
     },
     "execution_count": 12,
     "metadata": {},
     "output_type": "execute_result"
    }
   ],
   "source": [
    "df"
   ]
  },
  {
   "cell_type": "code",
   "execution_count": 16,
   "id": "2ee9793f-41c1-44b7-8609-da3e4b0ec672",
   "metadata": {},
   "outputs": [],
   "source": [
    "#Creating a DataFrame by passing a dict of objects that can be converted to series-ish.\n",
    "df2 = pd.DataFrame(\n",
    "   {\n",
    "       \"A\": 1.0,\n",
    "       \"B\": pd.Timestamp(\"20130102\"),\n",
    "       \"C\": pd.Series(1, index=list(range(4)), dtype=\"float32\"),\n",
    "       \"D\": np.array([3] * 4, dtype=\"int32\"),\n",
    "       \"E\": pd.Categorical([\"test\", \"train\", \"test\", \"train\"]),\n",
    "       \"F\": \"foo\",\n",
    "   }\n",
    " )"
   ]
  },
  {
   "cell_type": "code",
   "execution_count": 20,
   "id": "ccc99262-94d2-4d7d-93dc-8d5670464fd9",
   "metadata": {},
   "outputs": [
    {
     "data": {
      "text/html": [
       "<div>\n",
       "<style scoped>\n",
       "    .dataframe tbody tr th:only-of-type {\n",
       "        vertical-align: middle;\n",
       "    }\n",
       "\n",
       "    .dataframe tbody tr th {\n",
       "        vertical-align: top;\n",
       "    }\n",
       "\n",
       "    .dataframe thead th {\n",
       "        text-align: right;\n",
       "    }\n",
       "</style>\n",
       "<table border=\"1\" class=\"dataframe\">\n",
       "  <thead>\n",
       "    <tr style=\"text-align: right;\">\n",
       "      <th></th>\n",
       "      <th>A</th>\n",
       "      <th>B</th>\n",
       "      <th>C</th>\n",
       "      <th>D</th>\n",
       "      <th>E</th>\n",
       "      <th>F</th>\n",
       "    </tr>\n",
       "  </thead>\n",
       "  <tbody>\n",
       "    <tr>\n",
       "      <th>0</th>\n",
       "      <td>1.0</td>\n",
       "      <td>2013-01-02</td>\n",
       "      <td>1.0</td>\n",
       "      <td>3</td>\n",
       "      <td>test</td>\n",
       "      <td>foo</td>\n",
       "    </tr>\n",
       "    <tr>\n",
       "      <th>1</th>\n",
       "      <td>1.0</td>\n",
       "      <td>2013-01-02</td>\n",
       "      <td>1.0</td>\n",
       "      <td>3</td>\n",
       "      <td>train</td>\n",
       "      <td>foo</td>\n",
       "    </tr>\n",
       "    <tr>\n",
       "      <th>2</th>\n",
       "      <td>1.0</td>\n",
       "      <td>2013-01-02</td>\n",
       "      <td>1.0</td>\n",
       "      <td>3</td>\n",
       "      <td>test</td>\n",
       "      <td>foo</td>\n",
       "    </tr>\n",
       "    <tr>\n",
       "      <th>3</th>\n",
       "      <td>1.0</td>\n",
       "      <td>2013-01-02</td>\n",
       "      <td>1.0</td>\n",
       "      <td>3</td>\n",
       "      <td>train</td>\n",
       "      <td>foo</td>\n",
       "    </tr>\n",
       "  </tbody>\n",
       "</table>\n",
       "</div>"
      ],
      "text/plain": [
       "     A          B    C  D      E    F\n",
       "0  1.0 2013-01-02  1.0  3   test  foo\n",
       "1  1.0 2013-01-02  1.0  3  train  foo\n",
       "2  1.0 2013-01-02  1.0  3   test  foo\n",
       "3  1.0 2013-01-02  1.0  3  train  foo"
      ]
     },
     "execution_count": 20,
     "metadata": {},
     "output_type": "execute_result"
    }
   ],
   "source": [
    "df2\n"
   ]
  },
  {
   "cell_type": "code",
   "execution_count": 21,
   "id": "23d71c62-c375-4747-bcd5-9270797963cc",
   "metadata": {},
   "outputs": [
    {
     "data": {
      "text/plain": [
       "A           float64\n",
       "B    datetime64[ns]\n",
       "C           float32\n",
       "D             int32\n",
       "E          category\n",
       "F            object\n",
       "dtype: object"
      ]
     },
     "execution_count": 21,
     "metadata": {},
     "output_type": "execute_result"
    }
   ],
   "source": [
    "df2.dtypes"
   ]
  },
  {
   "cell_type": "code",
   "execution_count": 23,
   "id": "c5ec8998-215a-490d-ade3-37852be3fcf6",
   "metadata": {},
   "outputs": [],
   "source": [
    "#df2.<TAB> #NOT using IPython"
   ]
  },
  {
   "cell_type": "code",
   "execution_count": 24,
   "id": "6e52bf04-a7da-4e49-8f4b-a6a5fafc49fc",
   "metadata": {},
   "outputs": [
    {
     "data": {
      "text/html": [
       "<div>\n",
       "<style scoped>\n",
       "    .dataframe tbody tr th:only-of-type {\n",
       "        vertical-align: middle;\n",
       "    }\n",
       "\n",
       "    .dataframe tbody tr th {\n",
       "        vertical-align: top;\n",
       "    }\n",
       "\n",
       "    .dataframe thead th {\n",
       "        text-align: right;\n",
       "    }\n",
       "</style>\n",
       "<table border=\"1\" class=\"dataframe\">\n",
       "  <thead>\n",
       "    <tr style=\"text-align: right;\">\n",
       "      <th></th>\n",
       "      <th>1</th>\n",
       "      <th>2</th>\n",
       "      <th>3</th>\n",
       "      <th>4</th>\n",
       "    </tr>\n",
       "  </thead>\n",
       "  <tbody>\n",
       "    <tr>\n",
       "      <th>2013-01-01</th>\n",
       "      <td>1.367263</td>\n",
       "      <td>-0.171257</td>\n",
       "      <td>0.428610</td>\n",
       "      <td>0.050025</td>\n",
       "    </tr>\n",
       "    <tr>\n",
       "      <th>2013-01-02</th>\n",
       "      <td>-1.886400</td>\n",
       "      <td>0.261755</td>\n",
       "      <td>0.033428</td>\n",
       "      <td>-2.107026</td>\n",
       "    </tr>\n",
       "    <tr>\n",
       "      <th>2013-01-03</th>\n",
       "      <td>0.085557</td>\n",
       "      <td>0.636210</td>\n",
       "      <td>1.441403</td>\n",
       "      <td>1.979614</td>\n",
       "    </tr>\n",
       "    <tr>\n",
       "      <th>2013-01-04</th>\n",
       "      <td>-1.615251</td>\n",
       "      <td>1.010016</td>\n",
       "      <td>0.377631</td>\n",
       "      <td>-1.631396</td>\n",
       "    </tr>\n",
       "    <tr>\n",
       "      <th>2013-01-05</th>\n",
       "      <td>0.951663</td>\n",
       "      <td>-0.780420</td>\n",
       "      <td>1.614135</td>\n",
       "      <td>-0.306678</td>\n",
       "    </tr>\n",
       "  </tbody>\n",
       "</table>\n",
       "</div>"
      ],
      "text/plain": [
       "                   1         2         3         4\n",
       "2013-01-01  1.367263 -0.171257  0.428610  0.050025\n",
       "2013-01-02 -1.886400  0.261755  0.033428 -2.107026\n",
       "2013-01-03  0.085557  0.636210  1.441403  1.979614\n",
       "2013-01-04 -1.615251  1.010016  0.377631 -1.631396\n",
       "2013-01-05  0.951663 -0.780420  1.614135 -0.306678"
      ]
     },
     "execution_count": 24,
     "metadata": {},
     "output_type": "execute_result"
    }
   ],
   "source": [
    "df.head()"
   ]
  },
  {
   "cell_type": "code",
   "execution_count": 25,
   "id": "fccd9efa-d7c9-495b-955d-d8cd2d2ef5d1",
   "metadata": {},
   "outputs": [
    {
     "data": {
      "text/html": [
       "<div>\n",
       "<style scoped>\n",
       "    .dataframe tbody tr th:only-of-type {\n",
       "        vertical-align: middle;\n",
       "    }\n",
       "\n",
       "    .dataframe tbody tr th {\n",
       "        vertical-align: top;\n",
       "    }\n",
       "\n",
       "    .dataframe thead th {\n",
       "        text-align: right;\n",
       "    }\n",
       "</style>\n",
       "<table border=\"1\" class=\"dataframe\">\n",
       "  <thead>\n",
       "    <tr style=\"text-align: right;\">\n",
       "      <th></th>\n",
       "      <th>1</th>\n",
       "      <th>2</th>\n",
       "      <th>3</th>\n",
       "      <th>4</th>\n",
       "    </tr>\n",
       "  </thead>\n",
       "  <tbody>\n",
       "    <tr>\n",
       "      <th>2013-01-06</th>\n",
       "      <td>1.573360</td>\n",
       "      <td>0.909731</td>\n",
       "      <td>-1.145545</td>\n",
       "      <td>0.603921</td>\n",
       "    </tr>\n",
       "    <tr>\n",
       "      <th>2013-01-07</th>\n",
       "      <td>-1.009285</td>\n",
       "      <td>-0.242192</td>\n",
       "      <td>0.270666</td>\n",
       "      <td>-1.809228</td>\n",
       "    </tr>\n",
       "    <tr>\n",
       "      <th>2013-01-08</th>\n",
       "      <td>-1.095781</td>\n",
       "      <td>-0.928470</td>\n",
       "      <td>-0.474325</td>\n",
       "      <td>-0.760582</td>\n",
       "    </tr>\n",
       "    <tr>\n",
       "      <th>2013-01-09</th>\n",
       "      <td>-1.180316</td>\n",
       "      <td>-1.488034</td>\n",
       "      <td>1.177143</td>\n",
       "      <td>0.553916</td>\n",
       "    </tr>\n",
       "    <tr>\n",
       "      <th>2013-01-10</th>\n",
       "      <td>1.011860</td>\n",
       "      <td>-0.761266</td>\n",
       "      <td>-1.095542</td>\n",
       "      <td>-0.941848</td>\n",
       "    </tr>\n",
       "  </tbody>\n",
       "</table>\n",
       "</div>"
      ],
      "text/plain": [
       "                   1         2         3         4\n",
       "2013-01-06  1.573360  0.909731 -1.145545  0.603921\n",
       "2013-01-07 -1.009285 -0.242192  0.270666 -1.809228\n",
       "2013-01-08 -1.095781 -0.928470 -0.474325 -0.760582\n",
       "2013-01-09 -1.180316 -1.488034  1.177143  0.553916\n",
       "2013-01-10  1.011860 -0.761266 -1.095542 -0.941848"
      ]
     },
     "execution_count": 25,
     "metadata": {},
     "output_type": "execute_result"
    }
   ],
   "source": [
    "df.tail()"
   ]
  },
  {
   "cell_type": "code",
   "execution_count": 26,
   "id": "934fdfb1-5172-4639-83d0-b0c984f5ca5d",
   "metadata": {},
   "outputs": [
    {
     "data": {
      "text/html": [
       "<div>\n",
       "<style scoped>\n",
       "    .dataframe tbody tr th:only-of-type {\n",
       "        vertical-align: middle;\n",
       "    }\n",
       "\n",
       "    .dataframe tbody tr th {\n",
       "        vertical-align: top;\n",
       "    }\n",
       "\n",
       "    .dataframe thead th {\n",
       "        text-align: right;\n",
       "    }\n",
       "</style>\n",
       "<table border=\"1\" class=\"dataframe\">\n",
       "  <thead>\n",
       "    <tr style=\"text-align: right;\">\n",
       "      <th></th>\n",
       "      <th>A</th>\n",
       "      <th>B</th>\n",
       "      <th>C</th>\n",
       "      <th>D</th>\n",
       "      <th>E</th>\n",
       "      <th>F</th>\n",
       "    </tr>\n",
       "  </thead>\n",
       "  <tbody>\n",
       "    <tr>\n",
       "      <th>0</th>\n",
       "      <td>1.0</td>\n",
       "      <td>2013-01-02</td>\n",
       "      <td>1.0</td>\n",
       "      <td>3</td>\n",
       "      <td>test</td>\n",
       "      <td>foo</td>\n",
       "    </tr>\n",
       "    <tr>\n",
       "      <th>1</th>\n",
       "      <td>1.0</td>\n",
       "      <td>2013-01-02</td>\n",
       "      <td>1.0</td>\n",
       "      <td>3</td>\n",
       "      <td>train</td>\n",
       "      <td>foo</td>\n",
       "    </tr>\n",
       "    <tr>\n",
       "      <th>2</th>\n",
       "      <td>1.0</td>\n",
       "      <td>2013-01-02</td>\n",
       "      <td>1.0</td>\n",
       "      <td>3</td>\n",
       "      <td>test</td>\n",
       "      <td>foo</td>\n",
       "    </tr>\n",
       "    <tr>\n",
       "      <th>3</th>\n",
       "      <td>1.0</td>\n",
       "      <td>2013-01-02</td>\n",
       "      <td>1.0</td>\n",
       "      <td>3</td>\n",
       "      <td>train</td>\n",
       "      <td>foo</td>\n",
       "    </tr>\n",
       "  </tbody>\n",
       "</table>\n",
       "</div>"
      ],
      "text/plain": [
       "     A          B    C  D      E    F\n",
       "0  1.0 2013-01-02  1.0  3   test  foo\n",
       "1  1.0 2013-01-02  1.0  3  train  foo\n",
       "2  1.0 2013-01-02  1.0  3   test  foo\n",
       "3  1.0 2013-01-02  1.0  3  train  foo"
      ]
     },
     "execution_count": 26,
     "metadata": {},
     "output_type": "execute_result"
    }
   ],
   "source": [
    "df2.head()"
   ]
  },
  {
   "cell_type": "code",
   "execution_count": 27,
   "id": "9351fd8d-c6f3-4e44-b14f-aaf6d3139de3",
   "metadata": {},
   "outputs": [
    {
     "data": {
      "text/plain": [
       "DatetimeIndex(['2013-01-01', '2013-01-02', '2013-01-03', '2013-01-04',\n",
       "               '2013-01-05', '2013-01-06', '2013-01-07', '2013-01-08',\n",
       "               '2013-01-09', '2013-01-10'],\n",
       "              dtype='datetime64[ns]', freq='D')"
      ]
     },
     "execution_count": 27,
     "metadata": {},
     "output_type": "execute_result"
    }
   ],
   "source": [
    "df.index"
   ]
  },
  {
   "cell_type": "code",
   "execution_count": 29,
   "id": "b5261ab8-9a7a-45c2-bae6-60c3c1bf1415",
   "metadata": {},
   "outputs": [
    {
     "data": {
      "text/plain": [
       "Index(['1', '2', '3', '4'], dtype='object')"
      ]
     },
     "execution_count": 29,
     "metadata": {},
     "output_type": "execute_result"
    }
   ],
   "source": [
    "df.columns"
   ]
  },
  {
   "cell_type": "code",
   "execution_count": 30,
   "id": "3c9560d8-bf06-4dff-aa53-ade554543d57",
   "metadata": {},
   "outputs": [
    {
     "data": {
      "text/plain": [
       "array([[ 1.36726254, -0.17125722,  0.42860974,  0.050025  ],\n",
       "       [-1.88640045,  0.26175511,  0.03342788, -2.10702568],\n",
       "       [ 0.08555655,  0.6362095 ,  1.44140334,  1.97961414],\n",
       "       [-1.61525137,  1.01001577,  0.37763067, -1.63139556],\n",
       "       [ 0.95166254, -0.78041977,  1.61413471, -0.30667838],\n",
       "       [ 1.57336017,  0.90973138, -1.14554499,  0.60392113],\n",
       "       [-1.00928518, -0.24219227,  0.27066555, -1.80922849],\n",
       "       [-1.09578078, -0.92846957, -0.47432482, -0.7605815 ],\n",
       "       [-1.18031611, -1.48803418,  1.17714336,  0.55391589],\n",
       "       [ 1.01185966, -0.76126599, -1.09554207, -0.94184849]])"
      ]
     },
     "execution_count": 30,
     "metadata": {},
     "output_type": "execute_result"
    }
   ],
   "source": [
    "df.to_numpy()"
   ]
  },
  {
   "cell_type": "code",
   "execution_count": 31,
   "id": "7ea34aac-f442-477b-b35a-fb0facd614fa",
   "metadata": {},
   "outputs": [
    {
     "data": {
      "text/plain": [
       "array([[1.0, Timestamp('2013-01-02 00:00:00'), 1.0, 3, 'test', 'foo'],\n",
       "       [1.0, Timestamp('2013-01-02 00:00:00'), 1.0, 3, 'train', 'foo'],\n",
       "       [1.0, Timestamp('2013-01-02 00:00:00'), 1.0, 3, 'test', 'foo'],\n",
       "       [1.0, Timestamp('2013-01-02 00:00:00'), 1.0, 3, 'train', 'foo']],\n",
       "      dtype=object)"
      ]
     },
     "execution_count": 31,
     "metadata": {},
     "output_type": "execute_result"
    }
   ],
   "source": [
    "df2.to_numpy()"
   ]
  },
  {
   "cell_type": "code",
   "execution_count": 32,
   "id": "ee0a81a3-6f63-4c43-9400-0ce172682413",
   "metadata": {},
   "outputs": [
    {
     "data": {
      "text/html": [
       "<div>\n",
       "<style scoped>\n",
       "    .dataframe tbody tr th:only-of-type {\n",
       "        vertical-align: middle;\n",
       "    }\n",
       "\n",
       "    .dataframe tbody tr th {\n",
       "        vertical-align: top;\n",
       "    }\n",
       "\n",
       "    .dataframe thead th {\n",
       "        text-align: right;\n",
       "    }\n",
       "</style>\n",
       "<table border=\"1\" class=\"dataframe\">\n",
       "  <thead>\n",
       "    <tr style=\"text-align: right;\">\n",
       "      <th></th>\n",
       "      <th>A</th>\n",
       "      <th>C</th>\n",
       "      <th>D</th>\n",
       "    </tr>\n",
       "  </thead>\n",
       "  <tbody>\n",
       "    <tr>\n",
       "      <th>count</th>\n",
       "      <td>4.0</td>\n",
       "      <td>4.0</td>\n",
       "      <td>4.0</td>\n",
       "    </tr>\n",
       "    <tr>\n",
       "      <th>mean</th>\n",
       "      <td>1.0</td>\n",
       "      <td>1.0</td>\n",
       "      <td>3.0</td>\n",
       "    </tr>\n",
       "    <tr>\n",
       "      <th>std</th>\n",
       "      <td>0.0</td>\n",
       "      <td>0.0</td>\n",
       "      <td>0.0</td>\n",
       "    </tr>\n",
       "    <tr>\n",
       "      <th>min</th>\n",
       "      <td>1.0</td>\n",
       "      <td>1.0</td>\n",
       "      <td>3.0</td>\n",
       "    </tr>\n",
       "    <tr>\n",
       "      <th>25%</th>\n",
       "      <td>1.0</td>\n",
       "      <td>1.0</td>\n",
       "      <td>3.0</td>\n",
       "    </tr>\n",
       "    <tr>\n",
       "      <th>50%</th>\n",
       "      <td>1.0</td>\n",
       "      <td>1.0</td>\n",
       "      <td>3.0</td>\n",
       "    </tr>\n",
       "    <tr>\n",
       "      <th>75%</th>\n",
       "      <td>1.0</td>\n",
       "      <td>1.0</td>\n",
       "      <td>3.0</td>\n",
       "    </tr>\n",
       "    <tr>\n",
       "      <th>max</th>\n",
       "      <td>1.0</td>\n",
       "      <td>1.0</td>\n",
       "      <td>3.0</td>\n",
       "    </tr>\n",
       "  </tbody>\n",
       "</table>\n",
       "</div>"
      ],
      "text/plain": [
       "         A    C    D\n",
       "count  4.0  4.0  4.0\n",
       "mean   1.0  1.0  3.0\n",
       "std    0.0  0.0  0.0\n",
       "min    1.0  1.0  3.0\n",
       "25%    1.0  1.0  3.0\n",
       "50%    1.0  1.0  3.0\n",
       "75%    1.0  1.0  3.0\n",
       "max    1.0  1.0  3.0"
      ]
     },
     "execution_count": 32,
     "metadata": {},
     "output_type": "execute_result"
    }
   ],
   "source": [
    "df2.describe() # summary stats"
   ]
  },
  {
   "cell_type": "code",
   "execution_count": 34,
   "id": "e3c48638-aee3-41bd-972e-ee55f7ecc815",
   "metadata": {},
   "outputs": [
    {
     "data": {
      "text/html": [
       "<div>\n",
       "<style scoped>\n",
       "    .dataframe tbody tr th:only-of-type {\n",
       "        vertical-align: middle;\n",
       "    }\n",
       "\n",
       "    .dataframe tbody tr th {\n",
       "        vertical-align: top;\n",
       "    }\n",
       "\n",
       "    .dataframe thead th {\n",
       "        text-align: right;\n",
       "    }\n",
       "</style>\n",
       "<table border=\"1\" class=\"dataframe\">\n",
       "  <thead>\n",
       "    <tr style=\"text-align: right;\">\n",
       "      <th></th>\n",
       "      <th>2013-01-01</th>\n",
       "      <th>2013-01-02</th>\n",
       "      <th>2013-01-03</th>\n",
       "      <th>2013-01-04</th>\n",
       "      <th>2013-01-05</th>\n",
       "      <th>2013-01-06</th>\n",
       "      <th>2013-01-07</th>\n",
       "      <th>2013-01-08</th>\n",
       "      <th>2013-01-09</th>\n",
       "      <th>2013-01-10</th>\n",
       "    </tr>\n",
       "  </thead>\n",
       "  <tbody>\n",
       "    <tr>\n",
       "      <th>1</th>\n",
       "      <td>1.367263</td>\n",
       "      <td>-1.886400</td>\n",
       "      <td>0.085557</td>\n",
       "      <td>-1.615251</td>\n",
       "      <td>0.951663</td>\n",
       "      <td>1.573360</td>\n",
       "      <td>-1.009285</td>\n",
       "      <td>-1.095781</td>\n",
       "      <td>-1.180316</td>\n",
       "      <td>1.011860</td>\n",
       "    </tr>\n",
       "    <tr>\n",
       "      <th>2</th>\n",
       "      <td>-0.171257</td>\n",
       "      <td>0.261755</td>\n",
       "      <td>0.636210</td>\n",
       "      <td>1.010016</td>\n",
       "      <td>-0.780420</td>\n",
       "      <td>0.909731</td>\n",
       "      <td>-0.242192</td>\n",
       "      <td>-0.928470</td>\n",
       "      <td>-1.488034</td>\n",
       "      <td>-0.761266</td>\n",
       "    </tr>\n",
       "    <tr>\n",
       "      <th>3</th>\n",
       "      <td>0.428610</td>\n",
       "      <td>0.033428</td>\n",
       "      <td>1.441403</td>\n",
       "      <td>0.377631</td>\n",
       "      <td>1.614135</td>\n",
       "      <td>-1.145545</td>\n",
       "      <td>0.270666</td>\n",
       "      <td>-0.474325</td>\n",
       "      <td>1.177143</td>\n",
       "      <td>-1.095542</td>\n",
       "    </tr>\n",
       "    <tr>\n",
       "      <th>4</th>\n",
       "      <td>0.050025</td>\n",
       "      <td>-2.107026</td>\n",
       "      <td>1.979614</td>\n",
       "      <td>-1.631396</td>\n",
       "      <td>-0.306678</td>\n",
       "      <td>0.603921</td>\n",
       "      <td>-1.809228</td>\n",
       "      <td>-0.760582</td>\n",
       "      <td>0.553916</td>\n",
       "      <td>-0.941848</td>\n",
       "    </tr>\n",
       "  </tbody>\n",
       "</table>\n",
       "</div>"
      ],
      "text/plain": [
       "   2013-01-01  2013-01-02  2013-01-03  2013-01-04  2013-01-05  2013-01-06  \\\n",
       "1    1.367263   -1.886400    0.085557   -1.615251    0.951663    1.573360   \n",
       "2   -0.171257    0.261755    0.636210    1.010016   -0.780420    0.909731   \n",
       "3    0.428610    0.033428    1.441403    0.377631    1.614135   -1.145545   \n",
       "4    0.050025   -2.107026    1.979614   -1.631396   -0.306678    0.603921   \n",
       "\n",
       "   2013-01-07  2013-01-08  2013-01-09  2013-01-10  \n",
       "1   -1.009285   -1.095781   -1.180316    1.011860  \n",
       "2   -0.242192   -0.928470   -1.488034   -0.761266  \n",
       "3    0.270666   -0.474325    1.177143   -1.095542  \n",
       "4   -1.809228   -0.760582    0.553916   -0.941848  "
      ]
     },
     "execution_count": 34,
     "metadata": {},
     "output_type": "execute_result"
    }
   ],
   "source": [
    "df.T"
   ]
  },
  {
   "cell_type": "code",
   "execution_count": null,
   "id": "fc5d266c-a782-44e6-aa89-fbc7d7f1ea6c",
   "metadata": {},
   "outputs": [],
   "source": []
  }
 ],
 "metadata": {
  "kernelspec": {
   "display_name": "Python 3",
   "language": "python",
   "name": "python3"
  },
  "language_info": {
   "codemirror_mode": {
    "name": "ipython",
    "version": 3
   },
   "file_extension": ".py",
   "mimetype": "text/x-python",
   "name": "python",
   "nbconvert_exporter": "python",
   "pygments_lexer": "ipython3",
   "version": "3.9.4"
  }
 },
 "nbformat": 4,
 "nbformat_minor": 5
}
